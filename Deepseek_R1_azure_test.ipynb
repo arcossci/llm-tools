{
  "nbformat": 4,
  "nbformat_minor": 0,
  "metadata": {
    "colab": {
      "provenance": [],
      "authorship_tag": "ABX9TyO6BcDy8yWee9CnEHbovFZN",
      "include_colab_link": true
    },
    "kernelspec": {
      "name": "python3",
      "display_name": "Python 3"
    },
    "language_info": {
      "name": "python"
    }
  },
  "cells": [
    {
      "cell_type": "markdown",
      "metadata": {
        "id": "view-in-github",
        "colab_type": "text"
      },
      "source": [
        "<a href=\"https://colab.research.google.com/github/arcossci/llm-tools/blob/main/Deepseek_R1_azure_test.ipynb\" target=\"_parent\"><img src=\"https://colab.research.google.com/assets/colab-badge.svg\" alt=\"Open In Colab\"/></a>"
      ]
    },
    {
      "cell_type": "code",
      "source": [
        "# prompt: install packages\n",
        "\n",
        "!pip install azure-identity azure-ai-inference\n"
      ],
      "metadata": {
        "colab": {
          "base_uri": "https://localhost:8080/"
        },
        "id": "4Xo-RF46i7-4",
        "outputId": "fc4053bb-38fb-4bb3-fcb5-c3f7e4180012"
      },
      "execution_count": 1,
      "outputs": [
        {
          "output_type": "stream",
          "name": "stdout",
          "text": [
            "Collecting azure-identity\n",
            "  Downloading azure_identity-1.21.0-py3-none-any.whl.metadata (81 kB)\n",
            "\u001b[?25l     \u001b[90m━━━━━━━━━━━━━━━━━━━━━━━━━━━━━━━━━━━━━━━━\u001b[0m \u001b[32m0.0/81.3 kB\u001b[0m \u001b[31m?\u001b[0m eta \u001b[36m-:--:--\u001b[0m\r\u001b[2K     \u001b[91m━━━━━━━━━━━━━━━━━━━━━━━━━━━━━━━━━━━\u001b[0m\u001b[90m╺\u001b[0m\u001b[90m━━━━\u001b[0m \u001b[32m71.7/81.3 kB\u001b[0m \u001b[31m3.6 MB/s\u001b[0m eta \u001b[36m0:00:01\u001b[0m\r\u001b[2K     \u001b[90m━━━━━━━━━━━━━━━━━━━━━━━━━━━━━━━━━━━━━━━━\u001b[0m \u001b[32m81.3/81.3 kB\u001b[0m \u001b[31m1.9 MB/s\u001b[0m eta \u001b[36m0:00:00\u001b[0m\n",
            "\u001b[?25hCollecting azure-ai-inference\n",
            "  Downloading azure_ai_inference-1.0.0b9-py3-none-any.whl.metadata (34 kB)\n",
            "Collecting azure-core>=1.31.0 (from azure-identity)\n",
            "  Downloading azure_core-1.32.0-py3-none-any.whl.metadata (39 kB)\n",
            "Requirement already satisfied: cryptography>=2.5 in /usr/local/lib/python3.11/dist-packages (from azure-identity) (43.0.3)\n",
            "Collecting msal>=1.30.0 (from azure-identity)\n",
            "  Downloading msal-1.32.0-py3-none-any.whl.metadata (11 kB)\n",
            "Collecting msal-extensions>=1.2.0 (from azure-identity)\n",
            "  Downloading msal_extensions-1.3.0-py3-none-any.whl.metadata (7.8 kB)\n",
            "Requirement already satisfied: typing-extensions>=4.0.0 in /usr/local/lib/python3.11/dist-packages (from azure-identity) (4.12.2)\n",
            "Collecting isodate>=0.6.1 (from azure-ai-inference)\n",
            "  Downloading isodate-0.7.2-py3-none-any.whl.metadata (11 kB)\n",
            "Requirement already satisfied: requests>=2.21.0 in /usr/local/lib/python3.11/dist-packages (from azure-core>=1.31.0->azure-identity) (2.32.3)\n",
            "Requirement already satisfied: six>=1.11.0 in /usr/local/lib/python3.11/dist-packages (from azure-core>=1.31.0->azure-identity) (1.17.0)\n",
            "Requirement already satisfied: cffi>=1.12 in /usr/local/lib/python3.11/dist-packages (from cryptography>=2.5->azure-identity) (1.17.1)\n",
            "Requirement already satisfied: PyJWT<3,>=1.0.0 in /usr/local/lib/python3.11/dist-packages (from PyJWT[crypto]<3,>=1.0.0->msal>=1.30.0->azure-identity) (2.10.1)\n",
            "Requirement already satisfied: pycparser in /usr/local/lib/python3.11/dist-packages (from cffi>=1.12->cryptography>=2.5->azure-identity) (2.22)\n",
            "Requirement already satisfied: charset-normalizer<4,>=2 in /usr/local/lib/python3.11/dist-packages (from requests>=2.21.0->azure-core>=1.31.0->azure-identity) (3.4.1)\n",
            "Requirement already satisfied: idna<4,>=2.5 in /usr/local/lib/python3.11/dist-packages (from requests>=2.21.0->azure-core>=1.31.0->azure-identity) (3.10)\n",
            "Requirement already satisfied: urllib3<3,>=1.21.1 in /usr/local/lib/python3.11/dist-packages (from requests>=2.21.0->azure-core>=1.31.0->azure-identity) (2.3.0)\n",
            "Requirement already satisfied: certifi>=2017.4.17 in /usr/local/lib/python3.11/dist-packages (from requests>=2.21.0->azure-core>=1.31.0->azure-identity) (2025.1.31)\n",
            "Downloading azure_identity-1.21.0-py3-none-any.whl (189 kB)\n",
            "\u001b[2K   \u001b[90m━━━━━━━━━━━━━━━━━━━━━━━━━━━━━━━━━━━━━━━━\u001b[0m \u001b[32m189.2/189.2 kB\u001b[0m \u001b[31m7.2 MB/s\u001b[0m eta \u001b[36m0:00:00\u001b[0m\n",
            "\u001b[?25hDownloading azure_ai_inference-1.0.0b9-py3-none-any.whl (124 kB)\n",
            "\u001b[2K   \u001b[90m━━━━━━━━━━━━━━━━━━━━━━━━━━━━━━━━━━━━━━━━\u001b[0m \u001b[32m124.9/124.9 kB\u001b[0m \u001b[31m4.5 MB/s\u001b[0m eta \u001b[36m0:00:00\u001b[0m\n",
            "\u001b[?25hDownloading azure_core-1.32.0-py3-none-any.whl (198 kB)\n",
            "\u001b[2K   \u001b[90m━━━━━━━━━━━━━━━━━━━━━━━━━━━━━━━━━━━━━━━━\u001b[0m \u001b[32m198.9/198.9 kB\u001b[0m \u001b[31m10.3 MB/s\u001b[0m eta \u001b[36m0:00:00\u001b[0m\n",
            "\u001b[?25hDownloading isodate-0.7.2-py3-none-any.whl (22 kB)\n",
            "Downloading msal-1.32.0-py3-none-any.whl (114 kB)\n",
            "\u001b[2K   \u001b[90m━━━━━━━━━━━━━━━━━━━━━━━━━━━━━━━━━━━━━━━━\u001b[0m \u001b[32m114.7/114.7 kB\u001b[0m \u001b[31m5.0 MB/s\u001b[0m eta \u001b[36m0:00:00\u001b[0m\n",
            "\u001b[?25hDownloading msal_extensions-1.3.0-py3-none-any.whl (28 kB)\n",
            "Installing collected packages: isodate, azure-core, azure-ai-inference, msal, msal-extensions, azure-identity\n",
            "Successfully installed azure-ai-inference-1.0.0b9 azure-core-1.32.0 azure-identity-1.21.0 isodate-0.7.2 msal-1.32.0 msal-extensions-1.3.0\n"
          ]
        }
      ]
    },
    {
      "cell_type": "code",
      "execution_count": 5,
      "metadata": {
        "colab": {
          "base_uri": "https://localhost:8080/"
        },
        "id": "QBfLh3bni6T2",
        "outputId": "5d6dd69d-6c87-4b83-acd7-a9d8cb2052b1"
      },
      "outputs": [
        {
          "output_type": "stream",
          "name": "stdout",
          "text": [
            "{\n",
            "  \"choices\": [\n",
            "    {\n",
            "      \"finish_reason\": \"stop\",\n",
            "      \"index\": 0,\n",
            "      \"message\": {\n",
            "        \"content\": \"<think>\\nOkay, so the user is asking for three things to visit in Seattle. Hmm, Seattle has a lot of attractions, but I should pick the most popular or iconic ones. Let me brainstorm.\\n\\nFirst off, the Space Needle comes to mind. It's like the symbol of Seattle, right? Built for the World's Fair, and it has great views. People love going up there for the observation deck. That's a solid first choice.\\n\\nNext, Pike Place Market. Definitely a must-see. It's one of the oldest public markets in the US. There's the fish throwing, the original Starbucks, lots of vendors. Plus, the Gum Wall nearby. That's a good mix of culture, food, and history.\\n\\nThird option... Maybe the Museum of Pop Culture? It's designed by Frank Gehry and has exhibits on music, sci-fi, pop culture. Or maybe Chihuly Garden and Glass? It's near the Space Needle and has amazing glass art. Both are good, but which is more unique? Chihuly might be more visually impressive and is right by the Space Needle area, so maybe that's better. Or the waterfront, like the Seattle Great Wheel? But the market is already near the waterfront. Alternatively, the Seattle Art Museum? Hmm, but MoPOP is pretty unique. Wait, the user asked for three things. Let me check. Space Needle, Pike Place, and then either MoPOP or Chihuly. I think Chihuly is a strong choice because it's a specific attraction. Also, maybe the waterfront could be another, but I need to decide. \\n\\nAlternatively, the first national park, Mount Rainier, but it's a bit outside the city. If the user wants things within Seattle proper, then sticking to the city. So Space Needle, Pike Place, and maybe the Museum of Pop Culture. Alternatively, the Seattle Central Library for architecture, but it's less of a tourist spot. \\n\\nWait, maybe the Underground Tour? That's a popular historical tour of the old city beneath the streets. That's unique and educational. So perhaps those three: Space Needle, Pike Place Market, and the Underground Tour. Or maybe the Museum of Flight if they're into aviation. But I think the first three I considered are the most iconic. Space Needle, Pike Place, and Chihuly Garden and Glass. They are all in the same area too, which is convenient. \\n\\nLet me confirm. Space Needle is top. Pike Place is a given. Third, maybe the Museum of Pop Culture (MoPOP) since it's a big museum with interactive exhibits. Or the Seattle Aquarium? But that's more for families. Perhaps the best three are Space Needle, Pike Place Market, and the Museum of Pop Culture. Alternatively, the Chihuly Garden. Hmm. I think I'll go with Space Needle, Pike Place Market, and Chihuly Garden and Glass as the three. They are all in the Seattle Center area or close, and offer a mix of views, culture, and art. Yeah, that makes sense. Let me check again to make sure I'm not missing something. The waterfront is nice but maybe not as unique. So those three. Okay, I can present those with brief descriptions.\\n</think>\\n\\nHere are three top attractions to visit in Seattle, each offering a unique experience:\\n\\n1. **Space Needle**  \\n   An iconic symbol of Seattle, the Space Needle offers breathtaking 360-degree views from its observation deck. Built for the 1962 World\\u2019s Fair, it features a rotating glass floor and outdoor viewing area, perfect for capturing the city skyline, Mount Rainier, and Elliott Bay.\\n\\n2. **Pike Place Market**  \\n   One of the oldest continuously operating public markets in the U.S., Pike Place is a bustling hub of local culture. Explore fresh seafood (watch the famous fish toss!), artisan crafts, the original Starbucks, and the quirky Gum Wall nearby. A must for foodies and history lovers alike.\\n\\n3. **Chihuly Garden and Glass**  \\n   Located near the Space Needle, this stunning exhibit showcases the intricate glasswork of artist Dale Chihuly. Wander through indoor galleries filled with vibrant sculptures and an outdoor garden where glass art blends with natural landscapes. A visual feast for art enthusiasts.\\n\\nBonus suggestion: If time allows, consider the **Seattle Underground Tour** for a humorous dive into the city\\u2019s hidden history! \\ud83c\\udf06\",\n",
            "        \"reasoning_content\": null,\n",
            "        \"role\": \"assistant\",\n",
            "        \"tool_calls\": null\n",
            "      }\n",
            "    }\n",
            "  ],\n",
            "  \"created\": 1741988642,\n",
            "  \"id\": \"5323e3526bf042fab01c9fde4aee8608\",\n",
            "  \"model\": \"deepseek-r1\",\n",
            "  \"object\": \"chat.completion\",\n",
            "  \"usage\": {\n",
            "    \"completion_tokens\": 922,\n",
            "    \"prompt_tokens\": 19,\n",
            "    \"prompt_tokens_details\": null,\n",
            "    \"total_tokens\": 941\n",
            "  }\n",
            "}\n"
          ]
        }
      ],
      "source": [
        "# Install the following dependencies: azure.identity and azure-ai-inference\n",
        "import os\n",
        "from azure.ai.inference import ChatCompletionsClient\n",
        "from azure.ai.inference.models import SystemMessage, UserMessage\n",
        "from azure.core.credentials import AzureKeyCredential\n",
        "from google.colab import userdata\n",
        "\n",
        "endpoint = os.getenv(\"AZURE_INFERENCE_SDK_ENDPOINT\", \"https://wafer-m1tixc2n-eastus2.services.ai.azure.com/models\")\n",
        "model_name = \"DeepSeek-R1\"\n",
        "key = userdata.get('AZURE_INFERENCE_SDK_KEY')\n",
        "\n",
        "client = ChatCompletionsClient(endpoint=endpoint, credential=AzureKeyCredential(key))\n",
        "\n",
        "response = client.complete(\n",
        "  messages=[\n",
        "    {\"role\": \"system\", \"content\": \"You are a helpful assistant.\"},\n",
        "    {\"role\": \"user\", \"content\": \"What are 3 things to visit in Seattle?\"}\n",
        "  ],\n",
        "  model = model_name,\n",
        "  max_tokens=1000,\n",
        "  temperature=0.7\n",
        ")\n",
        "\n",
        "print(response)"
      ]
    }
  ]
}