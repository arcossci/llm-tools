{
  "nbformat": 4,
  "nbformat_minor": 0,
  "metadata": {
    "colab": {
      "provenance": [],
      "authorship_tag": "ABX9TyMLnsemdnyJspvwQAUB1gXG",
      "include_colab_link": true
    },
    "kernelspec": {
      "name": "python3",
      "display_name": "Python 3"
    },
    "language_info": {
      "name": "python"
    }
  },
  "cells": [
    {
      "cell_type": "markdown",
      "metadata": {
        "id": "view-in-github",
        "colab_type": "text"
      },
      "source": [
        "<a href=\"https://colab.research.google.com/github/arcossci/llm-tools/blob/main/azure_hybrid_ai_search.ipynb\" target=\"_parent\"><img src=\"https://colab.research.google.com/assets/colab-badge.svg\" alt=\"Open In Colab\"/></a>"
      ]
    },
    {
      "cell_type": "code",
      "execution_count": 1,
      "metadata": {
        "colab": {
          "base_uri": "https://localhost:8080/"
        },
        "id": "35klE36z62s2",
        "outputId": "a5524db5-4ade-4289-cced-640727670a73"
      },
      "outputs": [
        {
          "output_type": "stream",
          "name": "stdout",
          "text": [
            "Requirement already satisfied: azure-search-documents in /usr/local/lib/python3.11/dist-packages (11.5.2)\n",
            "Requirement already satisfied: azure-core>=1.28.0 in /usr/local/lib/python3.11/dist-packages (from azure-search-documents) (1.32.0)\n",
            "Requirement already satisfied: azure-common>=1.1 in /usr/local/lib/python3.11/dist-packages (from azure-search-documents) (1.1.28)\n",
            "Requirement already satisfied: isodate>=0.6.0 in /usr/local/lib/python3.11/dist-packages (from azure-search-documents) (0.7.2)\n",
            "Requirement already satisfied: typing-extensions>=4.6.0 in /usr/local/lib/python3.11/dist-packages (from azure-search-documents) (4.13.0)\n",
            "Requirement already satisfied: requests>=2.21.0 in /usr/local/lib/python3.11/dist-packages (from azure-core>=1.28.0->azure-search-documents) (2.32.3)\n",
            "Requirement already satisfied: six>=1.11.0 in /usr/local/lib/python3.11/dist-packages (from azure-core>=1.28.0->azure-search-documents) (1.17.0)\n",
            "Requirement already satisfied: charset-normalizer<4,>=2 in /usr/local/lib/python3.11/dist-packages (from requests>=2.21.0->azure-core>=1.28.0->azure-search-documents) (3.4.1)\n",
            "Requirement already satisfied: idna<4,>=2.5 in /usr/local/lib/python3.11/dist-packages (from requests>=2.21.0->azure-core>=1.28.0->azure-search-documents) (3.10)\n",
            "Requirement already satisfied: urllib3<3,>=1.21.1 in /usr/local/lib/python3.11/dist-packages (from requests>=2.21.0->azure-core>=1.28.0->azure-search-documents) (2.3.0)\n",
            "Requirement already satisfied: certifi>=2017.4.17 in /usr/local/lib/python3.11/dist-packages (from requests>=2.21.0->azure-core>=1.28.0->azure-search-documents) (2025.1.31)\n"
          ]
        }
      ],
      "source": [
        "!pip install azure-search-documents"
      ]
    },
    {
      "cell_type": "code",
      "source": [
        "# prompt: get azure-search-documents version\n",
        "\n",
        "!pip show azure-search-documents\n"
      ],
      "metadata": {
        "colab": {
          "base_uri": "https://localhost:8080/"
        },
        "id": "iovFtoZuCF6c",
        "outputId": "dd330709-bd29-4b5e-c5f5-5177d2847670"
      },
      "execution_count": 2,
      "outputs": [
        {
          "output_type": "stream",
          "name": "stdout",
          "text": [
            "Name: azure-search-documents\n",
            "Version: 11.5.2\n",
            "Summary: Microsoft Azure Cognitive Search Client Library for Python\n",
            "Home-page: https://github.com/Azure/azure-sdk-for-python/tree/main/sdk/search/azure-search-documents\n",
            "Author: Microsoft Corporation\n",
            "Author-email: ascl@microsoft.com\n",
            "License: MIT License\n",
            "Location: /usr/local/lib/python3.11/dist-packages\n",
            "Requires: azure-common, azure-core, isodate, typing-extensions\n",
            "Required-by: \n"
          ]
        }
      ]
    },
    {
      "cell_type": "code",
      "source": [
        "from azure.core.credentials import AzureKeyCredential\n",
        "from azure.search.documents import SearchClient\n",
        "from azure.search.documents.models import VectorizableTextQuery, VectorizedQuery"
      ],
      "metadata": {
        "id": "DbH_dpWk7CKG"
      },
      "execution_count": 3,
      "outputs": []
    },
    {
      "cell_type": "code",
      "source": [
        "service_endpoint = \"\"\n",
        "index_name = \"\"\n",
        "api_key = \"\"\n",
        "\n",
        "credential = AzureKeyCredential(api_key)\n",
        "search_client = SearchClient(endpoint=service_endpoint, index_name=index_name, credential=credential)"
      ],
      "metadata": {
        "id": "XB3f7txj7EpD"
      },
      "execution_count": 4,
      "outputs": []
    },
    {
      "cell_type": "code",
      "source": [
        "# prompt: create a fucntion to generate embeddings with ada002\n",
        "\n",
        "import openai\n",
        "\n",
        "# Replace with your actual OpenAI API key\n",
        "openai.api_key = \"\"\n",
        "\n",
        "def generate_embeddings(text):\n",
        "    # Use openai.embeddings.create instead of openai.Embedding.create\n",
        "    response = openai.embeddings.create(\n",
        "        input=text,\n",
        "        model=\"text-embedding-ada-002\"\n",
        "    )\n",
        "    # Access the embedding data using response.data[0].embedding\n",
        "    embeddings = response.data[0].embedding\n",
        "    return embeddings"
      ],
      "metadata": {
        "id": "oZiLSqkh-pQa"
      },
      "execution_count": 5,
      "outputs": []
    },
    {
      "cell_type": "code",
      "source": [
        "def hybrid_search(query_text, vector, k=5):\n",
        "    # Define the vectorizable text query\n",
        "    embeddings = generate_embeddings(query_text)\n",
        "    #vector_query = VectorizableTextQuery(text=query_text, k_nearest_neighbors=k, fields=\"embedding\")\n",
        "\n",
        "    vector_query = VectorizedQuery(vector=embeddings, k_nearest_neighbors=5, fields=\"embedding\")\n",
        "\n",
        "\n",
        "    # Execute the search query\n",
        "    results = search_client.search(\n",
        "        search_text=query_text,\n",
        "        vector_queries=[vector_query],\n",
        "        select=[\"field1\", \"field2\"],\n",
        "        top=5\n",
        "    )\n",
        "\n",
        "    # Display search results\n",
        "    for result in results:\n",
        "        print(f\"field1: {result.get('field1')}\")\n",
        "        print(f\"field2: {result.get('field2')}\")\n",
        "\n"
      ],
      "metadata": {
        "id": "1UM-IveR7Gms"
      },
      "execution_count": 6,
      "outputs": []
    },
    {
      "cell_type": "code",
      "source": [
        "query = \"becas posgrado\"\n",
        "query_vector = generate_embeddings(query)  # Implement this function based on your embedding model\n",
        "hybrid_search(query, query_vector)"
      ],
      "metadata": {
        "colab": {
          "base_uri": "https://localhost:8080/"
        },
        "id": "-qX10rvf7JoU",
        "outputId": "d8fb7057-7941-4983-c7e1-6a3bc8af871a"
      },
      "execution_count": 7,
      "outputs": [
        {
          "output_type": "stream",
          "name": "stdout",
          "text": [
            "Numero_Pagina: 72\n",
            "Nombre_archivo: politicas_normas_esp.pdf\n",
            "Numero_Pagina: 71\n",
            "Nombre_archivo: politicas_normas_esp.pdf\n",
            "Numero_Pagina: 12\n",
            "Nombre_archivo: lineamientos_credenciales_alternativas_esp.pdf\n",
            "Numero_Pagina: 11\n",
            "Nombre_archivo: reglamento_gestion_operacion_pi_posgrado_esp.pdf\n",
            "Numero_Pagina: 20\n",
            "Nombre_archivo: reglamento_gestion_operacion_pi_posgrado_esp.pdf\n"
          ]
        }
      ]
    }
  ]
}